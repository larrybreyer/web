{
 "cells": [
  {
   "cell_type": "markdown",
   "metadata": {},
   "source": [
    "# Exercise 5-2: Get data from an Excel file"
   ]
  },
  {
   "cell_type": "code",
   "execution_count": 1,
   "metadata": {},
   "outputs": [],
   "source": [
    "import pandas as pd"
   ]
  },
  {
   "cell_type": "code",
   "execution_count": 2,
   "metadata": {},
   "outputs": [],
   "source": [
    "zip_url = 'https://www.bls.gov/oes/special.requests/oesm18all.zip'"
   ]
  },
  {
   "cell_type": "code",
   "execution_count": 3,
   "metadata": {},
   "outputs": [
    {
     "data": {
      "text/plain": [
       "('oesm18all.zip', <http.client.HTTPMessage at 0x20d676c3c40>)"
      ]
     },
     "execution_count": 3,
     "metadata": {},
     "output_type": "execute_result"
    }
   ],
   "source": [
    "from urllib import request\n",
    "request.urlretrieve(zip_url, filename='oesm18all.zip')"
   ]
  },
  {
   "cell_type": "code",
   "execution_count": 4,
   "metadata": {},
   "outputs": [
    {
     "name": "stdout",
     "output_type": "stream",
     "text": [
      "oesm18all/all_data_M_2018.xlsx\n"
     ]
    }
   ],
   "source": [
    "from zipfile import ZipFile\n",
    "file_names = list() \n",
    "with ZipFile('oesm18all.zip', mode='r') as zip:\n",
    "    zip.extractall()\n",
    "    for file in zip.infolist():\n",
    "        file_names.append(file.filename)\n",
    "        print(file.filename)"
   ]
  },
  {
   "cell_type": "code",
   "execution_count": 5,
   "metadata": {},
   "outputs": [
    {
     "data": {
      "text/html": [
       "<div>\n",
       "<style scoped>\n",
       "    .dataframe tbody tr th:only-of-type {\n",
       "        vertical-align: middle;\n",
       "    }\n",
       "\n",
       "    .dataframe tbody tr th {\n",
       "        vertical-align: top;\n",
       "    }\n",
       "\n",
       "    .dataframe thead th {\n",
       "        text-align: right;\n",
       "    }\n",
       "</style>\n",
       "<table border=\"1\" class=\"dataframe\">\n",
       "  <thead>\n",
       "    <tr style=\"text-align: right;\">\n",
       "      <th></th>\n",
       "      <th>area</th>\n",
       "      <th>area_title</th>\n",
       "      <th>area_type</th>\n",
       "      <th>naics</th>\n",
       "      <th>naics_title</th>\n",
       "      <th>i_group</th>\n",
       "      <th>own_code</th>\n",
       "      <th>occ_code</th>\n",
       "      <th>occ_title</th>\n",
       "      <th>o_group</th>\n",
       "      <th>...</th>\n",
       "      <th>h_median</th>\n",
       "      <th>h_pct75</th>\n",
       "      <th>h_pct90</th>\n",
       "      <th>a_pct10</th>\n",
       "      <th>a_pct25</th>\n",
       "      <th>a_median</th>\n",
       "      <th>a_pct75</th>\n",
       "      <th>a_pct90</th>\n",
       "      <th>annual</th>\n",
       "      <th>hourly</th>\n",
       "    </tr>\n",
       "  </thead>\n",
       "  <tbody>\n",
       "    <tr>\n",
       "      <th>0</th>\n",
       "      <td>99</td>\n",
       "      <td>U.S.</td>\n",
       "      <td>1</td>\n",
       "      <td>000000</td>\n",
       "      <td>Cross-industry</td>\n",
       "      <td>cross-industry</td>\n",
       "      <td>1235</td>\n",
       "      <td>00-0000</td>\n",
       "      <td>All Occupations</td>\n",
       "      <td>total</td>\n",
       "      <td>...</td>\n",
       "      <td>18.58</td>\n",
       "      <td>30.06</td>\n",
       "      <td>47.31</td>\n",
       "      <td>20690</td>\n",
       "      <td>25740</td>\n",
       "      <td>38640</td>\n",
       "      <td>62510</td>\n",
       "      <td>98410</td>\n",
       "      <td>NaN</td>\n",
       "      <td>NaN</td>\n",
       "    </tr>\n",
       "    <tr>\n",
       "      <th>1</th>\n",
       "      <td>99</td>\n",
       "      <td>U.S.</td>\n",
       "      <td>1</td>\n",
       "      <td>000000</td>\n",
       "      <td>Cross-industry</td>\n",
       "      <td>cross-industry</td>\n",
       "      <td>1235</td>\n",
       "      <td>11-0000</td>\n",
       "      <td>Management Occupations</td>\n",
       "      <td>major</td>\n",
       "      <td>...</td>\n",
       "      <td>50.11</td>\n",
       "      <td>72.93</td>\n",
       "      <td>#</td>\n",
       "      <td>49260</td>\n",
       "      <td>70880</td>\n",
       "      <td>104240</td>\n",
       "      <td>151700</td>\n",
       "      <td>#</td>\n",
       "      <td>NaN</td>\n",
       "      <td>NaN</td>\n",
       "    </tr>\n",
       "    <tr>\n",
       "      <th>2</th>\n",
       "      <td>99</td>\n",
       "      <td>U.S.</td>\n",
       "      <td>1</td>\n",
       "      <td>000000</td>\n",
       "      <td>Cross-industry</td>\n",
       "      <td>cross-industry</td>\n",
       "      <td>1235</td>\n",
       "      <td>11-1000</td>\n",
       "      <td>Top Executives</td>\n",
       "      <td>minor</td>\n",
       "      <td>...</td>\n",
       "      <td>49.73</td>\n",
       "      <td>78.81</td>\n",
       "      <td>#</td>\n",
       "      <td>43400</td>\n",
       "      <td>66000</td>\n",
       "      <td>103450</td>\n",
       "      <td>163930</td>\n",
       "      <td>#</td>\n",
       "      <td>NaN</td>\n",
       "      <td>NaN</td>\n",
       "    </tr>\n",
       "    <tr>\n",
       "      <th>3</th>\n",
       "      <td>99</td>\n",
       "      <td>U.S.</td>\n",
       "      <td>1</td>\n",
       "      <td>000000</td>\n",
       "      <td>Cross-industry</td>\n",
       "      <td>cross-industry</td>\n",
       "      <td>1235</td>\n",
       "      <td>11-1010</td>\n",
       "      <td>Chief Executives</td>\n",
       "      <td>broad</td>\n",
       "      <td>...</td>\n",
       "      <td>91.15</td>\n",
       "      <td>#</td>\n",
       "      <td>#</td>\n",
       "      <td>68360</td>\n",
       "      <td>115960</td>\n",
       "      <td>189600</td>\n",
       "      <td>#</td>\n",
       "      <td>#</td>\n",
       "      <td>NaN</td>\n",
       "      <td>NaN</td>\n",
       "    </tr>\n",
       "    <tr>\n",
       "      <th>4</th>\n",
       "      <td>99</td>\n",
       "      <td>U.S.</td>\n",
       "      <td>1</td>\n",
       "      <td>000000</td>\n",
       "      <td>Cross-industry</td>\n",
       "      <td>cross-industry</td>\n",
       "      <td>1235</td>\n",
       "      <td>11-1011</td>\n",
       "      <td>Chief Executives</td>\n",
       "      <td>detailed</td>\n",
       "      <td>...</td>\n",
       "      <td>91.15</td>\n",
       "      <td>#</td>\n",
       "      <td>#</td>\n",
       "      <td>68360</td>\n",
       "      <td>115960</td>\n",
       "      <td>189600</td>\n",
       "      <td>#</td>\n",
       "      <td>#</td>\n",
       "      <td>NaN</td>\n",
       "      <td>NaN</td>\n",
       "    </tr>\n",
       "  </tbody>\n",
       "</table>\n",
       "<p>5 rows × 30 columns</p>\n",
       "</div>"
      ],
      "text/plain": [
       "   area area_title  area_type   naics     naics_title         i_group  \\\n",
       "0    99       U.S.          1  000000  Cross-industry  cross-industry   \n",
       "1    99       U.S.          1  000000  Cross-industry  cross-industry   \n",
       "2    99       U.S.          1  000000  Cross-industry  cross-industry   \n",
       "3    99       U.S.          1  000000  Cross-industry  cross-industry   \n",
       "4    99       U.S.          1  000000  Cross-industry  cross-industry   \n",
       "\n",
       "   own_code occ_code               occ_title   o_group  ... h_median h_pct75  \\\n",
       "0      1235  00-0000         All Occupations     total  ...    18.58   30.06   \n",
       "1      1235  11-0000  Management Occupations     major  ...    50.11   72.93   \n",
       "2      1235  11-1000          Top Executives     minor  ...    49.73   78.81   \n",
       "3      1235  11-1010        Chief Executives     broad  ...    91.15       #   \n",
       "4      1235  11-1011        Chief Executives  detailed  ...    91.15       #   \n",
       "\n",
       "  h_pct90 a_pct10 a_pct25 a_median a_pct75 a_pct90 annual hourly  \n",
       "0   47.31   20690   25740    38640   62510   98410    NaN    NaN  \n",
       "1       #   49260   70880   104240  151700       #    NaN    NaN  \n",
       "2       #   43400   66000   103450  163930       #    NaN    NaN  \n",
       "3       #   68360  115960   189600       #       #    NaN    NaN  \n",
       "4       #   68360  115960   189600       #       #    NaN    NaN  \n",
       "\n",
       "[5 rows x 30 columns]"
      ]
     },
     "execution_count": 5,
     "metadata": {},
     "output_type": "execute_result"
    }
   ],
   "source": [
    "jobs = pd.read_excel('oesm18all/all_data_M_2018.xlsx')\n",
    "jobs.head()"
   ]
  }
 ],
 "metadata": {
  "kernelspec": {
   "display_name": "Python 3",
   "language": "python",
   "name": "python3"
  },
  "language_info": {
   "codemirror_mode": {
    "name": "ipython",
    "version": 3
   },
   "file_extension": ".py",
   "mimetype": "text/x-python",
   "name": "python",
   "nbconvert_exporter": "python",
   "pygments_lexer": "ipython3",
   "version": "3.8.8"
  }
 },
 "nbformat": 4,
 "nbformat_minor": 4
}
