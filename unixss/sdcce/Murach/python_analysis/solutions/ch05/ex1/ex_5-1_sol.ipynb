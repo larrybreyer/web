{
 "cells": [
  {
   "cell_type": "markdown",
   "metadata": {},
   "source": [
    "# Exercise 5-1: Get data from a CSV file"
   ]
  },
  {
   "cell_type": "code",
   "execution_count": 1,
   "metadata": {},
   "outputs": [],
   "source": [
    "import pandas as pd"
   ]
  },
  {
   "cell_type": "code",
   "execution_count": 2,
   "metadata": {},
   "outputs": [],
   "source": [
    "polls_url = (\n",
    "    'http://projects.fivethirtyeight.com/general-model/president_general_polls_2016.csv')"
   ]
  },
  {
   "cell_type": "code",
   "execution_count": 3,
   "metadata": {},
   "outputs": [
    {
     "data": {
      "text/plain": [
       "('president_polls_2016.csv', <http.client.HTTPMessage at 0x29a43205520>)"
      ]
     },
     "execution_count": 3,
     "metadata": {},
     "output_type": "execute_result"
    }
   ],
   "source": [
    "from urllib import request\n",
    "request.urlretrieve(polls_url, filename='president_polls_2016.csv')"
   ]
  },
  {
   "cell_type": "code",
   "execution_count": 4,
   "metadata": {},
   "outputs": [],
   "source": [
    "polls = pd.read_csv('president_polls_2016.csv')"
   ]
  },
  {
   "cell_type": "code",
   "execution_count": 5,
   "metadata": {},
   "outputs": [
    {
     "name": "stdout",
     "output_type": "stream",
     "text": [
      "<class 'pandas.core.frame.DataFrame'>\n",
      "RangeIndex: 12624 entries, 0 to 12623\n",
      "Data columns (total 27 columns):\n",
      " #   Column            Non-Null Count  Dtype  \n",
      "---  ------            --------------  -----  \n",
      " 0   cycle             12624 non-null  int64  \n",
      " 1   branch            12624 non-null  object \n",
      " 2   type              12624 non-null  object \n",
      " 3   matchup           12624 non-null  object \n",
      " 4   forecastdate      12624 non-null  object \n",
      " 5   state             12624 non-null  object \n",
      " 6   startdate         12624 non-null  object \n",
      " 7   enddate           12624 non-null  object \n",
      " 8   pollster          12624 non-null  object \n",
      " 9   grade             11337 non-null  object \n",
      " 10  samplesize        12621 non-null  float64\n",
      " 11  population        12624 non-null  object \n",
      " 12  poll_wt           12624 non-null  float64\n",
      " 13  rawpoll_clinton   12624 non-null  float64\n",
      " 14  rawpoll_trump     12624 non-null  float64\n",
      " 15  rawpoll_johnson   8397 non-null   float64\n",
      " 16  rawpoll_mcmullin  90 non-null     float64\n",
      " 17  adjpoll_clinton   12624 non-null  float64\n",
      " 18  adjpoll_trump     12624 non-null  float64\n",
      " 19  adjpoll_johnson   8397 non-null   float64\n",
      " 20  adjpoll_mcmullin  90 non-null     float64\n",
      " 21  multiversions     36 non-null     object \n",
      " 22  url               12621 non-null  object \n",
      " 23  poll_id           12624 non-null  int64  \n",
      " 24  question_id       12624 non-null  int64  \n",
      " 25  createddate       12624 non-null  object \n",
      " 26  timestamp         12624 non-null  object \n",
      "dtypes: float64(10), int64(3), object(14)\n",
      "memory usage: 2.6+ MB\n"
     ]
    }
   ],
   "source": [
    "polls.info()"
   ]
  },
  {
   "cell_type": "code",
   "execution_count": null,
   "metadata": {},
   "outputs": [],
   "source": []
  }
 ],
 "metadata": {
  "kernelspec": {
   "display_name": "Python 3",
   "language": "python",
   "name": "python3"
  },
  "language_info": {
   "codemirror_mode": {
    "name": "ipython",
    "version": 3
   },
   "file_extension": ".py",
   "mimetype": "text/x-python",
   "name": "python",
   "nbconvert_exporter": "python",
   "pygments_lexer": "ipython3",
   "version": "3.8.8"
  }
 },
 "nbformat": 4,
 "nbformat_minor": 4
}
